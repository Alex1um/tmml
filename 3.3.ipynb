{
 "cells": [
  {
   "cell_type": "markdown",
   "metadata": {},
   "source": [
    "# Perceptrons theorem"
   ]
  },
  {
   "cell_type": "code",
   "execution_count": 2,
   "metadata": {},
   "outputs": [],
   "source": [
    "class Perceptron:\n",
    "    def __init__(self, num_inputs, activation_f, error_f):\n",
    "        # self.weights = np.random.rand(num_inputs)\n",
    "        # self.bias = np.random.rand(0)\n",
    "        self.weights = np.zeros(num_inputs)\n",
    "        self.bias = 0\n",
    "        self.activation = activation_f\n",
    "        self.error = error_f\n",
    "\n",
    "    def feedforward(self, inputs):\n",
    "        total = np.dot(self.weights, inputs) + self.bias\n",
    "        return total\n",
    "    \n",
    "    def predict(self, inputs):\n",
    "        return self.activation(np.dot(self.weights, inputs) + self.bias)\n",
    "        \n",
    "    def train(self, training_inputs, reals, learning_rate, epochs):\n",
    "        for _ in range(epochs):\n",
    "            for inputs, real in zip(training_inputs, reals):\n",
    "                prediction = self.feedforward(inputs)\n",
    "                # 0 is 1, 1 is 2\n",
    "                if real == 1 and prediction > 0:\n",
    "                    self.weights -= learning_rate * inputs\n",
    "                if real == 0 and prediction <= 0:\n",
    "                    self.weights += learning_rate * inputs\n"
   ]
  },
  {
   "cell_type": "code",
   "execution_count": 3,
   "metadata": {},
   "outputs": [],
   "source": [
    "import numpy as np # linear algebra\n",
    "import struct\n",
    "from array import array\n",
    "from os.path  import join\n",
    "\n",
    "#\n",
    "# MNIST Data Loader Class\n",
    "#\n",
    "class MnistDataloader(object):\n",
    "    def __init__(self, training_images_filepath,training_labels_filepath,\n",
    "                 test_images_filepath, test_labels_filepath):\n",
    "        self.training_images_filepath = training_images_filepath\n",
    "        self.training_labels_filepath = training_labels_filepath\n",
    "        self.test_images_filepath = test_images_filepath\n",
    "        self.test_labels_filepath = test_labels_filepath\n",
    "    \n",
    "    def read_images_labels(self, images_filepath, labels_filepath):        \n",
    "        labels = []\n",
    "        with open(labels_filepath, 'rb') as file:\n",
    "            magic, size = struct.unpack(\">II\", file.read(8))\n",
    "            if magic != 2049:\n",
    "                raise ValueError('Magic number mismatch, expected 2049, got {}'.format(magic))\n",
    "            labels = array(\"B\", file.read())        \n",
    "        \n",
    "        with open(images_filepath, 'rb') as file:\n",
    "            magic, size, rows, cols = struct.unpack(\">IIII\", file.read(16))\n",
    "            if magic != 2051:\n",
    "                raise ValueError('Magic number mismatch, expected 2051, got {}'.format(magic))\n",
    "            image_data = array(\"B\", file.read())        \n",
    "        images = []\n",
    "        for i in range(size):\n",
    "            images.append([0] * rows * cols)\n",
    "        for i in range(size):\n",
    "            img = np.array(image_data[i * rows * cols:(i + 1) * rows * cols])\n",
    "            img = img.reshape(28, 28)\n",
    "            images[i][:] = img            \n",
    "        \n",
    "        return images, labels\n",
    "            \n",
    "    def load_data(self):\n",
    "        x_train, y_train = self.read_images_labels(self.training_images_filepath, self.training_labels_filepath)\n",
    "        x_test, y_test = self.read_images_labels(self.test_images_filepath, self.test_labels_filepath)\n",
    "        return (x_train, y_train),(x_test, y_test)        "
   ]
  },
  {
   "cell_type": "code",
   "execution_count": 4,
   "metadata": {},
   "outputs": [],
   "source": [
    "(x_train_raw, y_train_raw),(x_test_raw, y_test_raw) = MnistDataloader(\n",
    "    \"data/mnist/train-images.idx3-ubyte\",\n",
    "    \"data/mnist/train-labels.idx1-ubyte\",\n",
    "    \"data/mnist/t10k-images.idx3-ubyte\",\n",
    "    \"data/mnist/t10k-labels.idx1-ubyte\"\n",
    "    ).load_data()"
   ]
  },
  {
   "cell_type": "code",
   "execution_count": 5,
   "metadata": {},
   "outputs": [],
   "source": [
    "x_train_raw = np.array(x_train_raw).reshape(60000, 28*28)\n",
    "y_train_raw = np.array(y_train_raw)\n",
    "x_test_raw = np.array(x_test_raw).reshape(10000, 28*28)\n",
    "y_test_raw = np.array(y_test_raw)"
   ]
  },
  {
   "cell_type": "code",
   "execution_count": 6,
   "metadata": {},
   "outputs": [],
   "source": [
    "# ones = y_train == 1\n",
    "# twos = y_train == 2\n",
    "y_train = y_train_raw\n",
    "x_train = x_train_raw\n",
    "\n",
    "ones = y_train == 1\n",
    "twos = y_train == 2"
   ]
  },
  {
   "cell_type": "code",
   "execution_count": 8,
   "metadata": {},
   "outputs": [],
   "source": [
    "errorf = lambda p, r: (p - r)**2 / 2\n",
    "ps = [Perceptron(28 * 28, lambda x: 1 if x >= 0 else -1, errorf) for _ in range(10)]\n",
    "for i, p in enumerate(ps):\n",
    "    p.train(x_train, y_train == i, 10, 2)"
   ]
  },
  {
   "cell_type": "code",
   "execution_count": 9,
   "metadata": {},
   "outputs": [
    {
     "data": {
      "text/plain": [
       "(10000, 784)"
      ]
     },
     "execution_count": 9,
     "metadata": {},
     "output_type": "execute_result"
    }
   ],
   "source": [
    "y_test = y_test_raw\n",
    "x_test = x_test_raw\n",
    "x_test.shape"
   ]
  },
  {
   "cell_type": "code",
   "execution_count": 10,
   "metadata": {},
   "outputs": [
    {
     "data": {
      "text/plain": [
       "(0.851,\n",
       " {0: 41, 1: 22, 2: 243, 3: 67, 4: 200, 5: 282, 6: 41, 7: 151, 8: 341, 9: 102})"
      ]
     },
     "execution_count": 10,
     "metadata": {},
     "output_type": "execute_result"
    }
   ],
   "source": [
    "pred_correct = 0\n",
    "N = x_test.shape[0]\n",
    "errors = {i: 0 for i in range(10)}\n",
    "for i_t, x in enumerate(x_test[:N, :]):\n",
    "    min_ind = 0\n",
    "    min_val = float(\"inf\")\n",
    "    for i, p in enumerate(ps):\n",
    "        predict = p.feedforward(x)\n",
    "        if min_val > predict:\n",
    "            min_val = predict\n",
    "            min_ind = i\n",
    "    is_correct = min_ind == y_test[i_t]\n",
    "    errors[y_test[i_t]] += min_ind != y_test[i_t]\n",
    "    pred_correct += is_correct\n",
    "pred_correct / N, errors"
   ]
  },
  {
   "cell_type": "code",
   "execution_count": 11,
   "metadata": {},
   "outputs": [
    {
     "data": {
      "text/plain": [
       "<BarContainer object of 10 artists>"
      ]
     },
     "execution_count": 11,
     "metadata": {},
     "output_type": "execute_result"
    },
    {
     "data": {
      "image/png": "[encoded data removed]",
      "text/plain": [
       "<Figure size 640x480 with 1 Axes>"
      ]
     },
     "metadata": {},
     "output_type": "display_data"
    }
   ],
   "source": [
    "import matplotlib.pyplot as plt\n",
    "plt.xticks(range(10))\n",
    "plt.bar(errors.keys(), errors.values())"
   ]
  }
 ],
 "metadata": {
  "kernelspec": {
   "display_name": "Python 3 (ipykernel)",
   "language": "python",
   "name": "python3"
  }
 },
 "nbformat": 4,
 "nbformat_minor": 2
}
