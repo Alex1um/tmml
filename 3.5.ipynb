{
 "cells": [
  {
   "cell_type": "markdown",
   "metadata": {},
   "source": [
    "# Perceptron via Torch!"
   ]
  },
  {
   "cell_type": "code",
   "execution_count": 1,
   "metadata": {},
   "outputs": [],
   "source": [
    "import numpy as np # linear algebra\n",
    "import struct\n",
    "from array import array\n",
    "from os.path  import join\n",
    "\n",
    "#\n",
    "# MNIST Data Loader Class\n",
    "#\n",
    "class MnistDataloader(object):\n",
    "    def __init__(self, training_images_filepath,training_labels_filepath,\n",
    "                 test_images_filepath, test_labels_filepath):\n",
    "        self.training_images_filepath = training_images_filepath\n",
    "        self.training_labels_filepath = training_labels_filepath\n",
    "        self.test_images_filepath = test_images_filepath\n",
    "        self.test_labels_filepath = test_labels_filepath\n",
    "    \n",
    "    def read_images_labels(self, images_filepath, labels_filepath):        \n",
    "        labels = []\n",
    "        with open(labels_filepath, 'rb') as file:\n",
    "            magic, size = struct.unpack(\">II\", file.read(8))\n",
    "            if magic != 2049:\n",
    "                raise ValueError('Magic number mismatch, expected 2049, got {}'.format(magic))\n",
    "            labels = array(\"B\", file.read())        \n",
    "        \n",
    "        with open(images_filepath, 'rb') as file:\n",
    "            magic, size, rows, cols = struct.unpack(\">IIII\", file.read(16))\n",
    "            if magic != 2051:\n",
    "                raise ValueError('Magic number mismatch, expected 2051, got {}'.format(magic))\n",
    "            image_data = array(\"B\", file.read())        \n",
    "        images = []\n",
    "        for i in range(size):\n",
    "            images.append([0] * rows * cols)\n",
    "        for i in range(size):\n",
    "            img = np.array(image_data[i * rows * cols:(i + 1) * rows * cols])\n",
    "            img = img.reshape(28, 28)\n",
    "            images[i][:] = img            \n",
    "        \n",
    "        return images, labels\n",
    "            \n",
    "    def load_data(self):\n",
    "        x_train, y_train = self.read_images_labels(self.training_images_filepath, self.training_labels_filepath)\n",
    "        x_test, y_test = self.read_images_labels(self.test_images_filepath, self.test_labels_filepath)\n",
    "        return (x_train, y_train),(x_test, y_test)  \n",
    "(x_train_raw, y_train_raw),(x_test_raw, y_test_raw) = MnistDataloader(\n",
    "    \"data/mnist/train-images.idx3-ubyte\",\n",
    "    \"data/mnist/train-labels.idx1-ubyte\",\n",
    "    \"data/mnist/t10k-images.idx3-ubyte\",\n",
    "    \"data/mnist/t10k-labels.idx1-ubyte\"\n",
    "    ).load_data()\n"
   ]
  },
  {
   "cell_type": "code",
   "execution_count": 244,
   "metadata": {},
   "outputs": [],
   "source": [
    "import torch\n",
    "from torch import nn\n",
    "from torch.autograd import Variable\n",
    "import matplotlib.pyplot as plt"
   ]
  },
  {
   "cell_type": "code",
   "execution_count": 3,
   "metadata": {},
   "outputs": [
    {
     "data": {
      "text/plain": [
       "(torch.Size([60000, 784]), torch.Size([60000]), torch.uint8)"
      ]
     },
     "execution_count": 3,
     "metadata": {},
     "output_type": "execute_result"
    }
   ],
   "source": [
    "x_train = torch.tensor(np.array(x_train_raw).reshape(60000, 28*28))\n",
    "y_train = torch.tensor(np.array(y_train_raw))\n",
    "x_test = torch.tensor(np.array(x_test_raw).reshape(10000, 28*28))\n",
    "y_test = torch.tensor(np.array(y_test_raw))\n",
    "x_train.shape, y_train.shape, x_train.dtype"
   ]
  },
  {
   "cell_type": "code",
   "execution_count": 218,
   "metadata": {},
   "outputs": [],
   "source": [
    "model = nn.Sequential(\n",
    "    nn.Linear(28*28, 10),\n",
    "    nn.Sigmoid()\n",
    ")\n",
    "# er_f = nn.HuberLoss()\n",
    "er_f = nn.CrossEntropyLoss()\n",
    "optim = torch.optim.SGD(model.parameters(), lr=0.01)\n"
   ]
  },
  {
   "cell_type": "code",
   "execution_count": 182,
   "metadata": {},
   "outputs": [],
   "source": [
    "N = 10000\n",
    "for x, y in zip(x_train[:N], y_train[:N]):\n",
    "    target = torch.ones(10) * -1\n",
    "    target[int(y)] = 1\n",
    "    # y_pred = torch.argmax(y_pred)\n",
    "    optim.zero_grad()\n",
    "    train = Variable(x.float(), requires_grad=True)\n",
    "    target = Variable(target.float(), requires_grad=False)\n",
    "    y_pred = model(train).float()\n",
    "    loss = er_f(y_pred, target)\n",
    "    loss.backward()\n",
    "    optim.step()"
   ]
  },
  {
   "cell_type": "code",
   "execution_count": 209,
   "metadata": {},
   "outputs": [],
   "source": [
    "target = torch.ones(x_train.shape[0], 10) * 0\n",
    "for i, y in zip(range(x_train.shape[0]), y_train):\n",
    "    target[i, int(y)] = 1\n",
    "target = Variable(target.float(), requires_grad=False)\n",
    "train = Variable(x_train.float(), requires_grad=True)"
   ]
  },
  {
   "cell_type": "code",
   "execution_count": 229,
   "metadata": {},
   "outputs": [
    {
     "name": "stdout",
     "output_type": "stream",
     "text": [
      "tensor(1.5851, grad_fn=<DivBackward1>)\n",
      "tensor(1.5849, grad_fn=<DivBackward1>)\n",
      "tensor(1.5849, grad_fn=<DivBackward1>)\n",
      "tensor(1.5848, grad_fn=<DivBackward1>)\n",
      "tensor(1.5848, grad_fn=<DivBackward1>)\n",
      "tensor(1.5846, grad_fn=<DivBackward1>)\n",
      "tensor(1.5846, grad_fn=<DivBackward1>)\n",
      "tensor(1.5844, grad_fn=<DivBackward1>)\n",
      "tensor(1.5845, grad_fn=<DivBackward1>)\n",
      "tensor(1.5843, grad_fn=<DivBackward1>)\n",
      "tensor(1.5844, grad_fn=<DivBackward1>)\n",
      "tensor(1.5844, grad_fn=<DivBackward1>)\n",
      "tensor(1.5845, grad_fn=<DivBackward1>)\n",
      "tensor(1.5846, grad_fn=<DivBackward1>)\n",
      "tensor(1.5843, grad_fn=<DivBackward1>)\n",
      "tensor(1.5843, grad_fn=<DivBackward1>)\n",
      "tensor(1.5842, grad_fn=<DivBackward1>)\n",
      "tensor(1.5842, grad_fn=<DivBackward1>)\n",
      "tensor(1.5839, grad_fn=<DivBackward1>)\n",
      "tensor(1.5839, grad_fn=<DivBackward1>)\n",
      "tensor(1.5838, grad_fn=<DivBackward1>)\n",
      "tensor(1.5837, grad_fn=<DivBackward1>)\n",
      "tensor(1.5836, grad_fn=<DivBackward1>)\n",
      "tensor(1.5835, grad_fn=<DivBackward1>)\n",
      "tensor(1.5834, grad_fn=<DivBackward1>)\n",
      "tensor(1.5832, grad_fn=<DivBackward1>)\n",
      "tensor(1.5832, grad_fn=<DivBackward1>)\n",
      "tensor(1.5830, grad_fn=<DivBackward1>)\n",
      "tensor(1.5830, grad_fn=<DivBackward1>)\n",
      "tensor(1.5828, grad_fn=<DivBackward1>)\n",
      "tensor(1.5829, grad_fn=<DivBackward1>)\n",
      "tensor(1.5827, grad_fn=<DivBackward1>)\n",
      "tensor(1.5827, grad_fn=<DivBackward1>)\n",
      "tensor(1.5826, grad_fn=<DivBackward1>)\n",
      "tensor(1.5826, grad_fn=<DivBackward1>)\n",
      "tensor(1.5824, grad_fn=<DivBackward1>)\n",
      "tensor(1.5824, grad_fn=<DivBackward1>)\n",
      "tensor(1.5823, grad_fn=<DivBackward1>)\n",
      "tensor(1.5823, grad_fn=<DivBackward1>)\n",
      "tensor(1.5822, grad_fn=<DivBackward1>)\n",
      "tensor(1.5823, grad_fn=<DivBackward1>)\n",
      "tensor(1.5821, grad_fn=<DivBackward1>)\n",
      "tensor(1.5822, grad_fn=<DivBackward1>)\n",
      "tensor(1.5821, grad_fn=<DivBackward1>)\n",
      "tensor(1.5822, grad_fn=<DivBackward1>)\n",
      "tensor(1.5821, grad_fn=<DivBackward1>)\n",
      "tensor(1.5821, grad_fn=<DivBackward1>)\n",
      "tensor(1.5821, grad_fn=<DivBackward1>)\n",
      "tensor(1.5820, grad_fn=<DivBackward1>)\n",
      "tensor(1.5818, grad_fn=<DivBackward1>)\n",
      "tensor(1.5818, grad_fn=<DivBackward1>)\n",
      "tensor(1.5816, grad_fn=<DivBackward1>)\n",
      "tensor(1.5815, grad_fn=<DivBackward1>)\n",
      "tensor(1.5813, grad_fn=<DivBackward1>)\n",
      "tensor(1.5813, grad_fn=<DivBackward1>)\n",
      "tensor(1.5811, grad_fn=<DivBackward1>)\n",
      "tensor(1.5811, grad_fn=<DivBackward1>)\n",
      "tensor(1.5809, grad_fn=<DivBackward1>)\n",
      "tensor(1.5810, grad_fn=<DivBackward1>)\n",
      "tensor(1.5808, grad_fn=<DivBackward1>)\n",
      "tensor(1.5809, grad_fn=<DivBackward1>)\n",
      "tensor(1.5807, grad_fn=<DivBackward1>)\n",
      "tensor(1.5808, grad_fn=<DivBackward1>)\n",
      "tensor(1.5807, grad_fn=<DivBackward1>)\n",
      "tensor(1.5807, grad_fn=<DivBackward1>)\n",
      "tensor(1.5806, grad_fn=<DivBackward1>)\n",
      "tensor(1.5807, grad_fn=<DivBackward1>)\n",
      "tensor(1.5806, grad_fn=<DivBackward1>)\n",
      "tensor(1.5807, grad_fn=<DivBackward1>)\n",
      "tensor(1.5806, grad_fn=<DivBackward1>)\n",
      "tensor(1.5806, grad_fn=<DivBackward1>)\n",
      "tensor(1.5806, grad_fn=<DivBackward1>)\n",
      "tensor(1.5805, grad_fn=<DivBackward1>)\n",
      "tensor(1.5805, grad_fn=<DivBackward1>)\n",
      "tensor(1.5803, grad_fn=<DivBackward1>)\n",
      "tensor(1.5802, grad_fn=<DivBackward1>)\n",
      "tensor(1.5801, grad_fn=<DivBackward1>)\n",
      "tensor(1.5799, grad_fn=<DivBackward1>)\n",
      "tensor(1.5798, grad_fn=<DivBackward1>)\n",
      "tensor(1.5797, grad_fn=<DivBackward1>)\n",
      "tensor(1.5797, grad_fn=<DivBackward1>)\n",
      "tensor(1.5795, grad_fn=<DivBackward1>)\n",
      "tensor(1.5796, grad_fn=<DivBackward1>)\n",
      "tensor(1.5794, grad_fn=<DivBackward1>)\n",
      "tensor(1.5795, grad_fn=<DivBackward1>)\n",
      "tensor(1.5793, grad_fn=<DivBackward1>)\n",
      "tensor(1.5794, grad_fn=<DivBackward1>)\n",
      "tensor(1.5792, grad_fn=<DivBackward1>)\n"
     ]
    },
    {
     "ename": "KeyboardInterrupt",
     "evalue": "",
     "output_type": "error",
     "traceback": [
      "\u001b[0;31m---------------------------------------------------------------------------\u001b[0m",
      "\u001b[0;31mKeyboardInterrupt\u001b[0m                         Traceback (most recent call last)",
      "Cell \u001b[0;32mIn[229], line 5\u001b[0m\n\u001b[1;32m      3\u001b[0m y_pred \u001b[38;5;241m=\u001b[39m model(train)\u001b[38;5;241m.\u001b[39mfloat()\n\u001b[1;32m      4\u001b[0m loss \u001b[38;5;241m=\u001b[39m er_f(y_pred, target)\n\u001b[0;32m----> 5\u001b[0m \u001b[43mloss\u001b[49m\u001b[38;5;241;43m.\u001b[39;49m\u001b[43mbackward\u001b[49m\u001b[43m(\u001b[49m\u001b[43m)\u001b[49m\n\u001b[1;32m      6\u001b[0m optim\u001b[38;5;241m.\u001b[39mstep()\n\u001b[1;32m      7\u001b[0m \u001b[38;5;28mprint\u001b[39m(loss)\n",
      "File \u001b[0;32m/usr/lib/python3/dist-packages/torch/_tensor.py:487\u001b[0m, in \u001b[0;36mTensor.backward\u001b[0;34m(self, gradient, retain_graph, create_graph, inputs)\u001b[0m\n\u001b[1;32m    477\u001b[0m \u001b[38;5;28;01mif\u001b[39;00m has_torch_function_unary(\u001b[38;5;28mself\u001b[39m):\n\u001b[1;32m    478\u001b[0m     \u001b[38;5;28;01mreturn\u001b[39;00m handle_torch_function(\n\u001b[1;32m    479\u001b[0m         Tensor\u001b[38;5;241m.\u001b[39mbackward,\n\u001b[1;32m    480\u001b[0m         (\u001b[38;5;28mself\u001b[39m,),\n\u001b[0;32m   (...)\u001b[0m\n\u001b[1;32m    485\u001b[0m         inputs\u001b[38;5;241m=\u001b[39minputs,\n\u001b[1;32m    486\u001b[0m     )\n\u001b[0;32m--> 487\u001b[0m \u001b[43mtorch\u001b[49m\u001b[38;5;241;43m.\u001b[39;49m\u001b[43mautograd\u001b[49m\u001b[38;5;241;43m.\u001b[39;49m\u001b[43mbackward\u001b[49m\u001b[43m(\u001b[49m\n\u001b[1;32m    488\u001b[0m \u001b[43m    \u001b[49m\u001b[38;5;28;43mself\u001b[39;49m\u001b[43m,\u001b[49m\u001b[43m \u001b[49m\u001b[43mgradient\u001b[49m\u001b[43m,\u001b[49m\u001b[43m \u001b[49m\u001b[43mretain_graph\u001b[49m\u001b[43m,\u001b[49m\u001b[43m \u001b[49m\u001b[43mcreate_graph\u001b[49m\u001b[43m,\u001b[49m\u001b[43m \u001b[49m\u001b[43minputs\u001b[49m\u001b[38;5;241;43m=\u001b[39;49m\u001b[43minputs\u001b[49m\n\u001b[1;32m    489\u001b[0m \u001b[43m\u001b[49m\u001b[43m)\u001b[49m\n",
      "File \u001b[0;32m/usr/lib/python3/dist-packages/torch/autograd/__init__.py:200\u001b[0m, in \u001b[0;36mbackward\u001b[0;34m(tensors, grad_tensors, retain_graph, create_graph, grad_variables, inputs)\u001b[0m\n\u001b[1;32m    195\u001b[0m     retain_graph \u001b[38;5;241m=\u001b[39m create_graph\n\u001b[1;32m    197\u001b[0m \u001b[38;5;66;03m# The reason we repeat same the comment below is that\u001b[39;00m\n\u001b[1;32m    198\u001b[0m \u001b[38;5;66;03m# some Python versions print out the first line of a multi-line function\u001b[39;00m\n\u001b[1;32m    199\u001b[0m \u001b[38;5;66;03m# calls in the traceback and some print out the last line\u001b[39;00m\n\u001b[0;32m--> 200\u001b[0m \u001b[43mVariable\u001b[49m\u001b[38;5;241;43m.\u001b[39;49m\u001b[43m_execution_engine\u001b[49m\u001b[38;5;241;43m.\u001b[39;49m\u001b[43mrun_backward\u001b[49m\u001b[43m(\u001b[49m\u001b[43m  \u001b[49m\u001b[38;5;66;43;03m# Calls into the C++ engine to run the backward pass\u001b[39;49;00m\n\u001b[1;32m    201\u001b[0m \u001b[43m    \u001b[49m\u001b[43mtensors\u001b[49m\u001b[43m,\u001b[49m\u001b[43m \u001b[49m\u001b[43mgrad_tensors_\u001b[49m\u001b[43m,\u001b[49m\u001b[43m \u001b[49m\u001b[43mretain_graph\u001b[49m\u001b[43m,\u001b[49m\u001b[43m \u001b[49m\u001b[43mcreate_graph\u001b[49m\u001b[43m,\u001b[49m\u001b[43m \u001b[49m\u001b[43minputs\u001b[49m\u001b[43m,\u001b[49m\n\u001b[1;32m    202\u001b[0m \u001b[43m    \u001b[49m\u001b[43mallow_unreachable\u001b[49m\u001b[38;5;241;43m=\u001b[39;49m\u001b[38;5;28;43;01mTrue\u001b[39;49;00m\u001b[43m,\u001b[49m\u001b[43m \u001b[49m\u001b[43maccumulate_grad\u001b[49m\u001b[38;5;241;43m=\u001b[39;49m\u001b[38;5;28;43;01mTrue\u001b[39;49;00m\u001b[43m)\u001b[49m\n",
      "\u001b[0;31mKeyboardInterrupt\u001b[0m: "
     ]
    }
   ],
   "source": [
    "for epich in range(1000):\n",
    "    optim.zero_grad()\n",
    "    y_pred = model(train).float()\n",
    "    loss = er_f(y_pred, target)\n",
    "    loss.backward()\n",
    "    optim.step()\n",
    "    print(loss)"
   ]
  },
  {
   "cell_type": "code",
   "execution_count": 230,
   "metadata": {},
   "outputs": [
    {
     "data": {
      "text/plain": [
       "tensor(0.8753)"
      ]
     },
     "execution_count": 230,
     "metadata": {},
     "output_type": "execute_result"
    }
   ],
   "source": [
    "torch.eq(torch.argmax(model(x_test.float()), 1), y_test).sum() / len(y_test)"
   ]
  },
  {
   "cell_type": "code",
   "execution_count": 248,
   "metadata": {},
   "outputs": [
    {
     "data": {
      "text/plain": [
       "<BarContainer object of 10 artists>"
      ]
     },
     "execution_count": 248,
     "metadata": {},
     "output_type": "execute_result"
    },
    {
     "data": {
      "image/png": "[encoded data removed]",
      "text/plain": [
       "<Figure size 640x480 with 1 Axes>"
      ]
     },
     "metadata": {},
     "output_type": "display_data"
    }
   ],
   "source": [
    "errors = {i: 0 for i in range(10)}\n",
    "for true, predicted in zip(y_test, torch.argmax(model(x_test.float()), 1)):\n",
    "    true = int(true)\n",
    "    errors[true] += true != int(predicted)\n",
    "plt.xticks(range(10))\n",
    "plt.bar(errors.keys(), errors.values())"
   ]
  }
 ],
 "metadata": {
  "kernelspec": {
   "display_name": "Python 3 (ipykernel)",
   "language": "python",
   "name": "python3"
  },
  "language_info": {
   "codemirror_mode": {
    "name": "ipython",
    "version": 3
   },
   "file_extension": ".py",
   "mimetype": "text/x-python",
   "name": "python",
   "nbconvert_exporter": "python",
   "pygments_lexer": "ipython3",
   "version": "3.11.6"
  }
 },
 "nbformat": 4,
 "nbformat_minor": 2
}
