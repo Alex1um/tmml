{
 "cells": [
  {
   "cell_type": "code",
   "execution_count": 1,
   "metadata": {},
   "outputs": [],
   "source": [
    "%matplotlib ipympl\n",
    "import numpy as np\n",
    "import matplotlib.pyplot as plt\n",
    "from typing import Literal"
   ]
  },
  {
   "cell_type": "code",
   "execution_count": 2,
   "metadata": {},
   "outputs": [],
   "source": [
    "with plt.ioff():\n",
    "    fig, ax = plt.subplots()"
   ]
  },
  {
   "cell_type": "code",
   "execution_count": 3,
   "metadata": {},
   "outputs": [],
   "source": [
    "def generate_xor(N: int, noise: int):\n",
    "    def get_xor_label(x, y):\n",
    "        return 1 if x * y >= 0 else -1\n",
    "    \n",
    "    get_xor_label = np.vectorize(get_xor_label)\n",
    "    padding = .3\n",
    "    x = np.random.uniform(-5, 5, N)\n",
    "    x += np.where(x > 0, padding, -padding)\n",
    "    y = np.random.uniform(-5, 5, N)\n",
    "    y += np.where(y > 0, padding, -padding)\n",
    "    noise_x = np.random.uniform(-5, 5, N) * noise\n",
    "    noise_y = np.random.uniform(-5, 5, N) * noise\n",
    "    labels = np.where((x + noise_x) * (y + noise_y) >= 0, 1, -1)\n",
    "    # labels = get_xor_label(x + noise_x, y + noise_y)\n",
    "    return x, y, labels\n",
    "\n",
    "def generate_spiral(N: int, noise: int):\n",
    "    n = N // 2\n",
    "\n",
    "    def gen_sigle_spiral(delta_t: int, label: int):\n",
    "        r = np.arange(n) / n * 5\n",
    "        t = 1.75 * np.arange(n) / n * 2 * np.pi + delta_t\n",
    "        x = r * np.sin(t) + np.random.uniform(-1, 1, n) * noise\n",
    "        y = r * np.cos(t) + np.random.uniform(-1, 1, n) * noise\n",
    "        return x, y, np.full(n, label)\n",
    "    \n",
    "    one = gen_sigle_spiral(0, 1)\n",
    "    second = gen_sigle_spiral(np.pi, -1)\n",
    "\n",
    "    x = np.concatenate([one[0], second[0]])\n",
    "    y = np.concatenate([one[1], second[1]])\n",
    "    labels = np.concatenate([one[2], second[2]])\n",
    "    return x, y, labels\n",
    "\n",
    "def generate_circle(N: int, noise: int):\n",
    "    radius = 5\n",
    "\n",
    "    def dist(x, y, center_x, center_y):\n",
    "        return np.sqrt((x - center_x) ** 2 + (y - center_y) ** 2)\n",
    "    dist = np.vectorize(dist)\n",
    "\n",
    "    def get_circle_label(x, y, center_x, center_y):\n",
    "        return 1 if dist(x, y, center_x, center_y) <= radius / 2 else -1\n",
    "    get_circle_label = np.vectorize(get_circle_label)\n",
    "    \n",
    "    r = np.concatenate((np.random.uniform(0, radius / 2, N), (np.random.uniform(radius * .7, radius, N))))\n",
    "    angle = np.random.uniform(0, 2 * np.pi, N * 2)\n",
    "    x = r * np.sin(angle)\n",
    "    noise_x = np.random.uniform(-radius, radius, N * 2) * noise\n",
    "    y = r * np.cos(angle)\n",
    "    noise_y = np.random.uniform(-radius, radius, N * 2) * noise\n",
    "    labels = get_circle_label(x + noise_x, y + noise_y, 0, 0)\n",
    "\n",
    "    return x, y, labels\n",
    "\n",
    "def generate_two_gauss(N: int, noise: int):\n",
    "    variance_scale = np.vectorize(lambda x: .5 + 3.5 * (x / .5))\n",
    "    variance = variance_scale(noise)\n",
    "\n",
    "    x = np.concatenate((np.random.normal(2, variance, N), np.random.normal(-2, variance, N)))\n",
    "    y = np.concatenate((np.random.normal(2, variance, N), np.random.normal(-2, variance, N)))\n",
    "    labels = np.concatenate((np.full(N, 1), np.full(N, -1)))\n",
    "    return x, y, labels"
   ]
  },
  {
   "cell_type": "code",
   "execution_count": 4,
   "metadata": {},
   "outputs": [],
   "source": [
    "def generate_points(N: int, test_percent, noise: int, func):\n",
    "    global x_train, y_train, labels_train, x_test, y_test, labels_test, train_data, test_data\n",
    "    test_count = int(N * test_percent)\n",
    "    x_train, y_train, labels_train = func(N, noise)\n",
    "    train_data = np.array([x_train, y_train]).T\n",
    "    x_test, y_test, labels_test = func(test_count, noise)\n",
    "    test_data = np.array([x_test, y_test]).T"
   ]
  },
  {
   "cell_type": "code",
   "execution_count": 5,
   "metadata": {},
   "outputs": [],
   "source": [
    "generate_points(500, .2, .1, generate_circle)"
   ]
  },
  {
   "cell_type": "code",
   "execution_count": 6,
   "metadata": {},
   "outputs": [
    {
     "ename": "ModuleNotFoundError",
     "evalue": "No module named 'torch'",
     "output_type": "error",
     "traceback": [
      "\u001b[0;31m---------------------------------------------------------------------------\u001b[0m",
      "\u001b[0;31mModuleNotFoundError\u001b[0m                       Traceback (most recent call last)",
      "Cell \u001b[0;32mIn[6], line 1\u001b[0m\n\u001b[0;32m----> 1\u001b[0m \u001b[38;5;28;01mimport\u001b[39;00m \u001b[38;5;21;01mtorch\u001b[39;00m\n\u001b[1;32m      2\u001b[0m \u001b[38;5;28;01mfrom\u001b[39;00m \u001b[38;5;21;01mtorch\u001b[39;00m \u001b[38;5;28;01mimport\u001b[39;00m nn\n\u001b[1;32m      3\u001b[0m \u001b[38;5;28;01mfrom\u001b[39;00m \u001b[38;5;21;01mtorch\u001b[39;00m\u001b[38;5;21;01m.\u001b[39;00m\u001b[38;5;21;01mautograd\u001b[39;00m \u001b[38;5;28;01mimport\u001b[39;00m Variable\n",
      "\u001b[0;31mModuleNotFoundError\u001b[0m: No module named 'torch'"
     ]
    }
   ],
   "source": [
    "import torch\n",
    "from torch import nn\n",
    "from torch.autograd import Variable\n",
    "\n",
    "model = nn.Sequential(\n",
    "    nn.Linear(2, 8),\n",
    "    nn.Sigmoid(),\n",
    "    nn.Linear(8, 8),\n",
    "    nn.Sigmoid(),\n",
    "    nn.Linear(8, 1),\n",
    "    nn.Sigmoid(),\n",
    ")\n",
    "# er_f = nn.HuberLoss()\n",
    "er_f = nn.BCELoss()\n",
    "optim = torch.optim.SGD(model.parameters(), lr=1)"
   ]
  },
  {
   "cell_type": "code",
   "execution_count": null,
   "metadata": {},
   "outputs": [],
   "source": [
    "\n",
    "x_train =torch.tensor(train_data)\n",
    "y_train = torch.tensor((labels_train + 1) // 2)\n",
    "for _ in range(100):\n",
    "    optim.zero_grad()\n",
    "    train = Variable(x_train.float(), requires_grad=True)\n",
    "    target = Variable(y_train.float(), requires_grad=False)\n",
    "    out = model(train)\n",
    "    loss = er_f(out.view(-1), target)\n",
    "    # loss = (out - target).mean()\n",
    "    loss.backward()\n",
    "    optim.step()\n",
    "print(loss)"
   ]
  },
  {
   "cell_type": "code",
   "execution_count": null,
   "metadata": {},
   "outputs": [],
   "source": [
    "error_torch = 0\n",
    "predicted_labels = list()\n",
    "for data, label in zip(test_data, labels_test):\n",
    "    ptep = model(torch.tensor(data).float())\n",
    "    predicted_labels.append(ptep)\n",
    "    ptep = 1 if ptep > .5 else -1\n",
    "    error_torch += abs(ptep - label)\n",
    "x_line = np.linspace(x_test.min(), x_test.max(), 20)\n",
    "ax.clear()\n",
    "points = ax.scatter(x_test, y_test, c=predicted_labels)\n",
    "# points.set_visible(False)\n",
    "ax.set_ylim(y_test.min() - 1, y_test.max() + 1)\n",
    "ax.legend()\n",
    "plt.show(fig)"
   ]
  }
 ],
 "metadata": {
  "kernelspec": {
   "display_name": "Python 3 (ipykernel)",
   "language": "python",
   "name": "python3"
  },
  "language_info": {
   "codemirror_mode": {
    "name": "ipython",
    "version": 3
   },
   "file_extension": ".py",
   "mimetype": "text/x-python",
   "name": "python",
   "nbconvert_exporter": "python",
   "pygments_lexer": "ipython3",
   "version": "3.11.6"
  }
 },
 "nbformat": 4,
 "nbformat_minor": 2
}
