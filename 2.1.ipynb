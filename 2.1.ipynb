{
 "cells": [
  {
   "cell_type": "code",
   "execution_count": 1,
   "id": "0dc20953",
   "metadata": {},
   "outputs": [],
   "source": [
    "#!pip install ipympl matplotlib numpy"
   ]
  },
  {
   "cell_type": "code",
   "execution_count": 2,
   "id": "d7554bc4",
   "metadata": {},
   "outputs": [],
   "source": [
    "# from google.colab import output\n",
    "# output.enable_custom_widget_manager()"
   ]
  },
  {
   "cell_type": "code",
   "execution_count": 3,
   "id": "13bec01e",
   "metadata": {},
   "outputs": [],
   "source": [
    "%matplotlib ipympl\n",
    "import numpy as np\n",
    "import matplotlib.pyplot as plt\n",
    "from math import *\n",
    "from itertools import product\n",
    "from IPython.display import clear_output"
   ]
  },
  {
   "cell_type": "code",
   "execution_count": 4,
   "id": "617ccc57",
   "metadata": {},
   "outputs": [],
   "source": [
    "with plt.ioff():\n",
    "    fig, ax = plt.subplots()"
   ]
  },
  {
   "cell_type": "code",
   "execution_count": 5,
   "id": "4ad6f9bf",
   "metadata": {},
   "outputs": [],
   "source": [
    "from ipywidgets import AppLayout\n",
    "from ipywidgets import Dropdown, FloatText, IntText, Button, Layout, HTML, HBox, VBox"
   ]
  },
  {
   "cell_type": "code",
   "execution_count": 6,
   "id": "bea059ca",
   "metadata": {},
   "outputs": [],
   "source": [
    "rng = np.random.default_rng(3123)\n",
    "functions = {\n",
    "    \"ax^3+bx^2+cx+d\":\n",
    "    (np.vectorize(lambda x, a, b, c, d: a*x**3 + b*x**2 + c*x + d), {\"a\": [-3, 3], \"b\": [-3, 3], \"c\": [-3, 3], \"d\": [-3, 3]}),\n",
    "    \"x*sin(2*pi*x)\":\n",
    "    (np.vectorize(lambda x: x*sin(2*pi*x)), {}),\n",
    "}"
   ]
  },
  {
   "cell_type": "code",
   "execution_count": 7,
   "id": "1fc59c60",
   "metadata": {},
   "outputs": [],
   "source": [
    "epsilon_rngs = {\n",
    "    \"normal\":\n",
    "    (lambda n, sigma, center=0: rng.normal(0, sigma, n), {\"center\": None, \"sigma\": None}),\n",
    "    \"uniform\":\n",
    "    (lambda n, ep0: rng.uniform(-ep0, ep0, n), {\"ep0\": None}),\n",
    "}"
   ]
  },
  {
   "cell_type": "code",
   "execution_count": 8,
   "id": "387ad733",
   "metadata": {},
   "outputs": [],
   "source": [
    "def update_plot(f_name, f, f_params, N, e_rng, e_rng_name, e_params):\n",
    "    global ax\n",
    "    epsilon = e_rng(N, **e_params)\n",
    "    x = np.linspace(-1, 1, 100)\n",
    "    ax.clear()\n",
    "    ax.plot(x, f(x, **f_params), \"b\", label=f_name)\n",
    "    x_c = rng.uniform(-1, 1, N)\n",
    "    y_c = f(x_c, **f_params) + epsilon\n",
    "    ax.scatter(x_c, y_c, c=\"r\")\n",
    "    ax.legend()\n",
    "    ax.title.set_text(f\"N: {N} ep_rng: {e_rng_name}\")"
   ]
  },
  {
   "cell_type": "code",
   "execution_count": 9,
   "id": "68501469",
   "metadata": {},
   "outputs": [],
   "source": [
    "def linear_regression():\n",
    "    global ax, app\n",
    "    data = ax.collections[0].get_offsets()\n",
    "    N = data.shape[0]\n",
    "    x_ep = data.data[:, 0]\n",
    "    y_ep = data.data[:, 1]\n",
    "    x, y = ax.lines[0].get_data()\n",
    "\n",
    "    A = np.vander(x_ep, N)\n",
    "    w = np.linalg.solve(A, y_ep)[::-1]\n",
    "    ft = np.vectorize(lambda x: np.sum(np.power(x, np.arange(N)) * w))\n",
    "    Er = np.sum((ft(x) - y)**2) / 2\n",
    "    clear_output(wait=True)\n",
    "\n",
    "    ax.plot(x, ft(x), \"g\", label=f\"f' - {Er}\")\n",
    "\n",
    "    ax.axis([min(x) - 1, max(x) + 1, min(y) - 2, max(y) + 2])\n",
    "    ax.legend()\n",
    "    "
   ]
  },
  {
   "cell_type": "code",
   "execution_count": 10,
   "id": "610f2752",
   "metadata": {},
   "outputs": [],
   "source": [
    "def create_param_inputs(functions: dict[str, tuple[callable, dict[str, list[float]]]]):\n",
    "\n",
    "    function_blocks = dict()\n",
    "    function_params_inputs = dict()\n",
    "\n",
    "    for f_name, (_, params) in functions.items():\n",
    "\n",
    "        function_box_items = list()\n",
    "        function_inputs = list()\n",
    "\n",
    "        for param_name, param_range in params.items():\n",
    "            rng_btn = None\n",
    "            if param_range is None:\n",
    "                param_range = [0, 1]\n",
    "            else:\n",
    "                rng_btn = Button()\n",
    "            inp = FloatText(\n",
    "                value = rng.uniform(*param_range),\n",
    "                step = .1,\n",
    "                description=param_name,\n",
    "                layout=Layout(width=\"95%\")\n",
    "            )\n",
    "            function_inputs.append(inp)\n",
    "            box_items = list()\n",
    "            box_items.append(inp)\n",
    "\n",
    "            if rng_btn is not None:\n",
    "                rng_btn.linked_input = inp\n",
    "                rng_btn.linked_input_range = param_range\n",
    "                # rng_btn.on_click(lambda x: inp.__setattr__(\"value\", rng.uniform(*param_range)))\n",
    "                rng_btn.on_click(lambda x: x.linked_input.__setattr__(\"value\", rng.uniform(*x.linked_input_range)))\n",
    "                box_items.append(rng_btn)\n",
    "            \n",
    "            box = HBox(\n",
    "                box_items\n",
    "            )\n",
    "            function_box_items.append(box)\n",
    "        \n",
    "        function_blocks[f_name] = VBox(\n",
    "            function_box_items,\n",
    "            layout=Layout(width=\"100%\", display=\"none\")\n",
    "        )\n",
    "        function_params_inputs[f_name] = function_inputs\n",
    "    \n",
    "    return function_blocks, function_params_inputs            \n"
   ]
  },
  {
   "cell_type": "code",
   "execution_count": 12,
   "id": "db848e6e",
   "metadata": {},
   "outputs": [
    {
     "data": {
      "application/vnd.jupyter.widget-view+json": {
       "model_id": "db4850f3454f41f586e9ee812a1706ea",
       "version_major": 2,
       "version_minor": 0
      },
      "text/plain": [
       "AppLayout(children=(VBox(children=(Button(description='generate points', layout=Layout(width='98%'), style=But…"
      ]
     },
     "execution_count": 12,
     "metadata": {},
     "output_type": "execute_result"
    }
   ],
   "source": [
    "first_rng = next(iter(epsilon_rngs.keys()))\n",
    "ep_rng_dropdown = Dropdown(\n",
    "    options=epsilon_rngs.keys(),\n",
    "    value=first_rng,\n",
    "    layout=Layout(width=\"95%\"),\n",
    "    description=\"ε_rng\",\n",
    "    style={\"description_width\": \"initial\"},\n",
    ")\n",
    "\n",
    "ep_rng_blocks, ep_rng_params = create_param_inputs(epsilon_rngs)\n",
    "# ep_rng_params = {\n",
    "#     key: VBox(\n",
    "#         [FloatText(value=0, step=.1, description=param, layout=Layout(width=\"95%\")) for param in params],\n",
    "#         layout=Layout(width=\"100%\", display=\"none\"),\n",
    "#         ) for key, (_, params) in epsilon_rngs.items()\n",
    "# }\n",
    "\n",
    "def on_dropdown_change(value, boxes: dict[str, VBox]):\n",
    "    old_box = boxes[value[\"old\"]]\n",
    "    new_box = boxes[value[\"new\"]]\n",
    "    old_box.layout.display=\"none\"\n",
    "    new_box.layout.display=\"block\"\n",
    "\n",
    "ep_rng_dropdown.observe(lambda value: on_dropdown_change(value, ep_rng_blocks), names=\"value\")\n",
    "ep_rng_blocks[first_rng].layout.display = \"block\"\n",
    "\n",
    "first_function = next(iter(functions.keys()))\n",
    "function_dropdown = Dropdown(\n",
    "    options=functions.keys(),\n",
    "    value=first_function,\n",
    "    layout=Layout(width=\"100%\"),\n",
    "    description=\"function\",\n",
    "    style={\"description_width\": \"initial\"},\n",
    ")\n",
    "functions_blocks, functions_params = create_param_inputs(functions)\n",
    "# function_params = {\n",
    "#     key: VBox(\n",
    "#         [FloatText(value=0, step=.1, description=param, layout=Layout(width=\"95%\")) for param in params],\n",
    "#         layout=Layout(width=\"100%\", display=\"none\"),\n",
    "#         ) for key, (_, params) in functions.items()\n",
    "# }\n",
    "function_dropdown.observe(lambda value: on_dropdown_change(value, functions_blocks), names=\"value\")\n",
    "functions_blocks[first_function].layout.display=\"block\"\n",
    "\n",
    "n_input = IntText(\n",
    "                value=20,\n",
    "                min=1,\n",
    "                max=100,\n",
    "                step=1,\n",
    "                layout=Layout(width=\"95%\"),\n",
    "                description=\"N\",\n",
    "                style={\"description_width\": \"initial\"},\n",
    ")\n",
    "AppLayout(\n",
    "    center=fig.canvas,\n",
    "    header=VBox(\n",
    "        [\n",
    "            update_bt := Button(\n",
    "                description=\"generate points\",\n",
    "                layout=Layout(width=\"98%\"),\n",
    "                style={\"description_width\": \"initial\"},\n",
    "            ),\n",
    "            linear_regression_bt := Button(\n",
    "                description=\"draw linear regression\",\n",
    "                layout=Layout(width=\"98%\"),\n",
    "                style={\"description_width\": \"initial\"},\n",
    "            )\n",
    "        ]\n",
    "    ),\n",
    "    footer=VBox(\n",
    "        [\n",
    "            function_dropdown,\n",
    "            *functions_blocks.values()\n",
    "        ]\n",
    "    ),\n",
    "    right_sidebar=VBox(\n",
    "        [\n",
    "            n_input,\n",
    "            ep_rng_dropdown,\n",
    "            *ep_rng_blocks.values()\n",
    "        ],\n",
    "        layout=Layout(height=\"100%\", width=\"95%\")\n",
    "    ),\n",
    "    pane_heights=[\"80px\", 3, 1],\n",
    ")"
   ]
  },
  {
   "cell_type": "code",
   "execution_count": null,
   "id": "20a88280",
   "metadata": {},
   "outputs": [],
   "source": [
    "update_bt.on_click(lambda x: update_plot(\n",
    "    function_dropdown.value,\n",
    "    functions[function_dropdown.value][0],\n",
    "    {w.description: w.value for w in functions_params[function_dropdown.value]},\n",
    "    n_input.value,\n",
    "    epsilon_rngs[ep_rng_dropdown.value][0],\n",
    "    ep_rng_dropdown.value,\n",
    "    {w.description: w.value for w in ep_rng_params[ep_rng_dropdown.value]},\n",
    "))\n",
    "linear_regression_bt.on_click(lambda x: linear_regression())"
   ]
  }
 ],
 "metadata": {
  "kernelspec": {
   "display_name": "Python 3 (ipykernel)",
   "language": "python",
   "name": "python3"
  },
  "language_info": {
   "codemirror_mode": {
    "name": "ipython",
    "version": 3
   },
   "file_extension": ".py",
   "mimetype": "text/x-python",
   "name": "python",
   "nbconvert_exporter": "python",
   "pygments_lexer": "ipython3",
   "version": "3.11.6"
  }
 },
 "nbformat": 4,
 "nbformat_minor": 5
}
