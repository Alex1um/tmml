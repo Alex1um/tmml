{
 "cells": [
  {
   "cell_type": "code",
   "execution_count": 1,
   "metadata": {},
   "outputs": [],
   "source": [
    "from torchvision.datasets import MNIST, mnist\n",
    "from torchvision import transforms"
   ]
  },
  {
   "cell_type": "code",
   "execution_count": 2,
   "metadata": {},
   "outputs": [],
   "source": [
    "import torch.nn.functional as F"
   ]
  },
  {
   "cell_type": "code",
   "execution_count": 3,
   "metadata": {},
   "outputs": [],
   "source": [
    "import torch\n",
    "from torch import nn\n",
    "from torch.autograd import Variable\n",
    "from torch.distributions import Categorical\n",
    "from torch.utils.data import DataLoader"
   ]
  },
  {
   "cell_type": "code",
   "execution_count": 4,
   "metadata": {},
   "outputs": [],
   "source": [
    "from tqdm.notebook import tqdm_notebook"
   ]
  },
  {
   "cell_type": "code",
   "execution_count": 5,
   "metadata": {},
   "outputs": [],
   "source": [
    "import matplotlib.pyplot as plt\n",
    "import seaborn as sns"
   ]
  },
  {
   "cell_type": "code",
   "execution_count": 6,
   "metadata": {},
   "outputs": [],
   "source": [
    "from itertools import chain\n",
    "import pandas as pd"
   ]
  },
  {
   "cell_type": "code",
   "execution_count": 7,
   "metadata": {},
   "outputs": [
    {
     "data": {
      "text/plain": [
       "device(type='cuda')"
      ]
     },
     "execution_count": 7,
     "metadata": {},
     "output_type": "execute_result"
    }
   ],
   "source": [
    "from torch.utils.tensorboard import SummaryWriter\n",
    "device = torch.device(\"cuda\" if torch.cuda.is_available() else \"cpu\")\n",
    "device"
   ]
  },
  {
   "cell_type": "code",
   "execution_count": 8,
   "metadata": {},
   "outputs": [],
   "source": [
    "class CustomTargetTransform:\n",
    "    def __init__(self, num_classes=10):\n",
    "        self.num_classes = num_classes\n",
    "\n",
    "    def __call__(self, target):\n",
    "        new_target = torch.zeros(self.num_classes, dtype=torch.float, device=device)\n",
    "        new_target[target] = 1\n",
    "        return new_target\n",
    "\n",
    "transform = transforms.Compose([\n",
    "    transforms.PILToTensor(),\n",
    "    transforms.Lambda(lambda x: x.float().to(device))\n",
    "])\n",
    "\n",
    "dataset = mnist.FashionMNIST(\"data\", download=True, train=True, transform=transform, target_transform=CustomTargetTransform())\n",
    "data_loader = DataLoader(dataset, batch_size=800, shuffle=True)"
   ]
  },
  {
   "cell_type": "code",
   "execution_count": 9,
   "metadata": {},
   "outputs": [],
   "source": [
    "dataset_target = mnist.FashionMNIST(\"data\", download=True, train=False, transform=transforms.PILToTensor())\n",
    "target_data = dataset_target.data.unsqueeze(1).float().to(device)\n",
    "target_labels = dataset_target.targets.float().to(device)"
   ]
  },
  {
   "cell_type": "code",
   "execution_count": 10,
   "metadata": {},
   "outputs": [],
   "source": [
    "def create_model(\n",
    "        img_size,\n",
    "        blocks_out_channels,\n",
    "        blocks_kernel_size,\n",
    "        blocks_stride,\n",
    "        pool_kernel_size,\n",
    "        pool_stride,\n",
    "        lr,\n",
    "    ) -> tuple[nn.Sequential, nn.CrossEntropyLoss, torch.optim.SGD, SummaryWriter]:\n",
    "    blocks = []\n",
    "    in_channels = 1\n",
    "    outs = img_size\n",
    "    for out_channels, kernel_size, stride in zip(blocks_out_channels, blocks_kernel_size, blocks_stride):\n",
    "        blocks.append(\n",
    "            nn.Conv2d(in_channels, out_channels, kernel_size, stride)\n",
    "        )\n",
    "        blocks.append(nn.ReLU())\n",
    "        outs = (outs - kernel_size) // stride + 1\n",
    "        in_channels = out_channels\n",
    "    outs = (outs - pool_kernel_size) // pool_stride + 1\n",
    "    outs = outs * outs * in_channels\n",
    "    model = nn.Sequential(\n",
    "        *blocks,\n",
    "        nn.MaxPool2d(kernel_size=pool_kernel_size, stride=pool_stride),\n",
    "        nn.Flatten(1),\n",
    "        nn.Linear(outs, 10),\n",
    "        nn.Softmax(),\n",
    "    ).to(device)\n",
    "    er_f = nn.CrossEntropyLoss()\n",
    "    optim = torch.optim.SGD(model.parameters(), lr=lr)\n",
    "    writer = SummaryWriter(comment=f\"_{len(blocks_out_channels)}_{lr}_{blocks_kernel_size}_{blocks_stride}_{pool_kernel_size}_{pool_stride}\")\n",
    "    return model, er_f, optim, writer\n"
   ]
  },
  {
   "cell_type": "code",
   "execution_count": 11,
   "metadata": {},
   "outputs": [],
   "source": [
    "def write_summary(writer: SummaryWriter, model: nn.Module, params):\n",
    "    param_dict = {\n",
    "            \"blocks_out_channels\": params[0], \n",
    "            \"blocks_kernel_size\": params[1], \n",
    "            \"blocks_stride\": params[2],\n",
    "            \"pool_kernel_size\": params[3],\n",
    "            \"pool_stride\": params[4],\n",
    "            \"lr\": params[5],\n",
    "        }\n",
    "    param_table = pd.DataFrame(param_dict)\n",
    "    predicted = model(target_data)\n",
    "    predicted_labels = predicted.max(1).indices\n",
    "    confusion_matrix = torch.zeros(10, 10, device=device)\n",
    "    for i in range(len(predicted_labels)):\n",
    "        confusion_matrix[predicted_labels[i].long()][target_labels[i].long()] += 1\n",
    "    confusion_matrix = confusion_matrix.cpu()\n",
    "    fig = plt.gcf()\n",
    "    fig.clear()\n",
    "    ax = fig.add_subplot(111)\n",
    "    hist = predicted_labels[predicted_labels == target_labels]\n",
    "    error_hist = target_labels[predicted_labels != target_labels]\n",
    "    percent: torch.tensor = ((predicted_labels == target_labels).sum() / len(target_labels))\n",
    "    sns.heatmap(confusion_matrix, annot=True, fmt=\"g\", ax=ax)\n",
    "    writer.add_figure(\"confusion_matrix\", fig)\n",
    "    writer.add_scalar(\"accuracy\", percent)\n",
    "    fig.clear()\n",
    "    ax = fig.add_subplot(111)\n",
    "    sns.histplot(hist.cpu(), stat=\"count\", discrete=True, bins=range(10), ax=ax)\n",
    "    writer.add_figure(\"right hist\", fig)\n",
    "    fig.clear()\n",
    "    ax = fig.add_subplot(111)\n",
    "    sns.histplot(error_hist.cpu(), stat=\"count\", discrete=True, bins=range(10), ax=ax)\n",
    "    writer.add_figure(\"error hist\", fig)\n",
    "    writer.add_text(\"param_table\", param_table.to_markdown())\n",
    "    writer.add_text(\"accuracy\", str(percent.item()))"
   ]
  },
  {
   "cell_type": "code",
   "execution_count": 25,
   "metadata": {},
   "outputs": [],
   "source": [
    "params = (\n",
    "    # ((5, ), (3, ), (3, ), 3, 3, 0.01),\n",
    "    # ((5, ), (3, ), (1, ), 3, 1, 0.1),\n",
    "    # ((5, ), (3, ), (1, ), 3, 1, 0.001),\n",
    "    # ((7, ), (3, ), (1, ), 3, 1, 0.1),\n",
    "    # ((10, ), (3, ), (1, ), 3, 1, 0.1),\n",
    "    # ((15, ), (3, ), (1, ), 3, 1, 0.1),\n",
    "    # ((5, ), (3, ), (1, ), 3, 3, 0.01), # 54\n",
    "    # ((5, ), (3, ), (3, ), 3, 3, 0.01), # 46\n",
    "    # ((10, ), (2, ), (1, ), 3, 3, 0.01), # 49\n",
    "    # ((10, ), (4, ), (1, ), 3, 3, 0.01), # 38\n",
    "    # ((10, ), (2, ), (2, ), 3, 3, 0.01), # 60\n",
    "    # ((10, ), (4, ), (2, ), 3, 3, 0.01), # 47\n",
    "\n",
    "    # ((10, ), (2, ), (2, ), 3, 1, 0.01), # 20\n",
    "    # ((10, ), (2, ), (2, ), 2, 2, 0.01), # 55\n",
    "    # ((10, ), (2, ), (2, ), 4, 4, 0.01), # 28\n",
    ")"
   ]
  },
  {
   "cell_type": "code",
   "execution_count": 26,
   "metadata": {},
   "outputs": [
    {
     "data": {
      "application/vnd.jupyter.widget-view+json": {
       "model_id": "af145f82bdcb48d5a6e8afda8be0f906",
       "version_major": 2,
       "version_minor": 0
      },
      "text/plain": [
       "  0%|          | 0/1 [00:00<?, ?it/s]"
      ]
     },
     "metadata": {},
     "output_type": "display_data"
    },
    {
     "data": {
      "application/vnd.jupyter.widget-view+json": {
       "model_id": "2b46f2ec16d64751924d4a941c3706f9",
       "version_major": 2,
       "version_minor": 0
      },
      "text/plain": [
       "  0%|          | 0/20 [00:00<?, ?it/s]"
      ]
     },
     "metadata": {},
     "output_type": "display_data"
    },
    {
     "data": {
      "application/vnd.jupyter.widget-view+json": {
       "model_id": "653974178f9648ad8753f18625e87a5f",
       "version_major": 2,
       "version_minor": 0
      },
      "text/plain": [
       "  0%|          | 0/75 [00:00<?, ?it/s]"
      ]
     },
     "metadata": {},
     "output_type": "display_data"
    },
    {
     "name": "stderr",
     "output_type": "stream",
     "text": [
      "/home/alex1um/.local/lib/python3.11/site-packages/torch/nn/modules/module.py:1511: UserWarning: Implicit dimension choice for softmax has been deprecated. Change the call to include dim=X as an argument.\n",
      "  return self._call_impl(*args, **kwargs)\n"
     ]
    },
    {
     "data": {
      "application/vnd.jupyter.widget-view+json": {
       "model_id": "6f98239afaec4b6298730c3e6b59977a",
       "version_major": 2,
       "version_minor": 0
      },
      "text/plain": [
       "  0%|          | 0/75 [00:00<?, ?it/s]"
      ]
     },
     "metadata": {},
     "output_type": "display_data"
    },
    {
     "data": {
      "application/vnd.jupyter.widget-view+json": {
       "model_id": "64fc96b72d4b429eae845339c063fc47",
       "version_major": 2,
       "version_minor": 0
      },
      "text/plain": [
       "  0%|          | 0/75 [00:00<?, ?it/s]"
      ]
     },
     "metadata": {},
     "output_type": "display_data"
    },
    {
     "data": {
      "application/vnd.jupyter.widget-view+json": {
       "model_id": "cd1ca5d021284ca2b5b98ec87e961413",
       "version_major": 2,
       "version_minor": 0
      },
      "text/plain": [
       "  0%|          | 0/75 [00:00<?, ?it/s]"
      ]
     },
     "metadata": {},
     "output_type": "display_data"
    },
    {
     "data": {
      "application/vnd.jupyter.widget-view+json": {
       "model_id": "5d5bcf7ff30941f09af81e2678f4742a",
       "version_major": 2,
       "version_minor": 0
      },
      "text/plain": [
       "  0%|          | 0/75 [00:00<?, ?it/s]"
      ]
     },
     "metadata": {},
     "output_type": "display_data"
    },
    {
     "data": {
      "application/vnd.jupyter.widget-view+json": {
       "model_id": "9c6c0f4a0b6b41c8a34ab4c1ab4d9f3d",
       "version_major": 2,
       "version_minor": 0
      },
      "text/plain": [
       "  0%|          | 0/75 [00:00<?, ?it/s]"
      ]
     },
     "metadata": {},
     "output_type": "display_data"
    },
    {
     "data": {
      "application/vnd.jupyter.widget-view+json": {
       "model_id": "ca52e0fc7ff04030988e7d567f84b48c",
       "version_major": 2,
       "version_minor": 0
      },
      "text/plain": [
       "  0%|          | 0/75 [00:00<?, ?it/s]"
      ]
     },
     "metadata": {},
     "output_type": "display_data"
    },
    {
     "data": {
      "application/vnd.jupyter.widget-view+json": {
       "model_id": "3bad7ec0f1224a82a97e3a420908e3ba",
       "version_major": 2,
       "version_minor": 0
      },
      "text/plain": [
       "  0%|          | 0/75 [00:00<?, ?it/s]"
      ]
     },
     "metadata": {},
     "output_type": "display_data"
    },
    {
     "data": {
      "application/vnd.jupyter.widget-view+json": {
       "model_id": "e2b435255b3b410dbdc91c0fcea3d7dc",
       "version_major": 2,
       "version_minor": 0
      },
      "text/plain": [
       "  0%|          | 0/75 [00:00<?, ?it/s]"
      ]
     },
     "metadata": {},
     "output_type": "display_data"
    },
    {
     "data": {
      "application/vnd.jupyter.widget-view+json": {
       "model_id": "b5e48a21175b418c8de94b2245e9ef73",
       "version_major": 2,
       "version_minor": 0
      },
      "text/plain": [
       "  0%|          | 0/75 [00:00<?, ?it/s]"
      ]
     },
     "metadata": {},
     "output_type": "display_data"
    },
    {
     "data": {
      "application/vnd.jupyter.widget-view+json": {
       "model_id": "f701480301e74f31875f5c9794b53690",
       "version_major": 2,
       "version_minor": 0
      },
      "text/plain": [
       "  0%|          | 0/75 [00:00<?, ?it/s]"
      ]
     },
     "metadata": {},
     "output_type": "display_data"
    },
    {
     "data": {
      "application/vnd.jupyter.widget-view+json": {
       "model_id": "1764912da00247b089ab0c53049711e6",
       "version_major": 2,
       "version_minor": 0
      },
      "text/plain": [
       "  0%|          | 0/75 [00:00<?, ?it/s]"
      ]
     },
     "metadata": {},
     "output_type": "display_data"
    },
    {
     "data": {
      "application/vnd.jupyter.widget-view+json": {
       "model_id": "cfb1580670784663bc2d7c3bc8acb1c9",
       "version_major": 2,
       "version_minor": 0
      },
      "text/plain": [
       "  0%|          | 0/75 [00:00<?, ?it/s]"
      ]
     },
     "metadata": {},
     "output_type": "display_data"
    },
    {
     "data": {
      "application/vnd.jupyter.widget-view+json": {
       "model_id": "0c51702a99c444798148434412546026",
       "version_major": 2,
       "version_minor": 0
      },
      "text/plain": [
       "  0%|          | 0/75 [00:00<?, ?it/s]"
      ]
     },
     "metadata": {},
     "output_type": "display_data"
    },
    {
     "data": {
      "application/vnd.jupyter.widget-view+json": {
       "model_id": "6b72315bd6564c9cb603777529761a61",
       "version_major": 2,
       "version_minor": 0
      },
      "text/plain": [
       "  0%|          | 0/75 [00:00<?, ?it/s]"
      ]
     },
     "metadata": {},
     "output_type": "display_data"
    },
    {
     "data": {
      "application/vnd.jupyter.widget-view+json": {
       "model_id": "e8afa1a547654a9ab5c6b6bc9c8c9d8e",
       "version_major": 2,
       "version_minor": 0
      },
      "text/plain": [
       "  0%|          | 0/75 [00:00<?, ?it/s]"
      ]
     },
     "metadata": {},
     "output_type": "display_data"
    },
    {
     "data": {
      "application/vnd.jupyter.widget-view+json": {
       "model_id": "8f0e19fee0414f2da6fd241d75ed676b",
       "version_major": 2,
       "version_minor": 0
      },
      "text/plain": [
       "  0%|          | 0/75 [00:00<?, ?it/s]"
      ]
     },
     "metadata": {},
     "output_type": "display_data"
    },
    {
     "data": {
      "application/vnd.jupyter.widget-view+json": {
       "model_id": "359ccbc715fa40698f49b8d6d778a53e",
       "version_major": 2,
       "version_minor": 0
      },
      "text/plain": [
       "  0%|          | 0/75 [00:00<?, ?it/s]"
      ]
     },
     "metadata": {},
     "output_type": "display_data"
    },
    {
     "data": {
      "application/vnd.jupyter.widget-view+json": {
       "model_id": "3cc83441b4464558af17810e3c1762bc",
       "version_major": 2,
       "version_minor": 0
      },
      "text/plain": [
       "  0%|          | 0/75 [00:00<?, ?it/s]"
      ]
     },
     "metadata": {},
     "output_type": "display_data"
    },
    {
     "data": {
      "application/vnd.jupyter.widget-view+json": {
       "model_id": "c98f8aeeaf83414f823df9b150726fd7",
       "version_major": 2,
       "version_minor": 0
      },
      "text/plain": [
       "  0%|          | 0/75 [00:00<?, ?it/s]"
      ]
     },
     "metadata": {},
     "output_type": "display_data"
    },
    {
     "name": "stderr",
     "output_type": "stream",
     "text": [
      "/home/alex1um/.local/lib/python3.11/site-packages/torch/nn/modules/module.py:1511: UserWarning: Implicit dimension choice for softmax has been deprecated. Change the call to include dim=X as an argument.\n",
      "  return self._call_impl(*args, **kwargs)\n"
     ]
    }
   ],
   "source": [
    "for param in tqdm_notebook(params):\n",
    "    model, er_f, optim, writer = create_model(28, *param)\n",
    "    total_epochs = 0\n",
    "    for epoch in tqdm_notebook(range(20)):\n",
    "        for image, target in tqdm_notebook(data_loader, leave=False):\n",
    "            optim.zero_grad()\n",
    "            outs = model(image)\n",
    "            loss = er_f(outs, target)\n",
    "            loss.backward()\n",
    "            optim.step()\n",
    "            writer.add_scalar(\"loss\", loss, total_epochs)\n",
    "            total_epochs += 1\n",
    "    write_summary(writer, model, param)"
   ]
  },
  {
   "cell_type": "code",
   "execution_count": 127,
   "metadata": {},
   "outputs": [],
   "source": [
    "model, er_f, optim, writer = create_model(28, *params[0])"
   ]
  },
  {
   "cell_type": "code",
   "execution_count": 57,
   "metadata": {},
   "outputs": [],
   "source": [
    "torch.save(model, \"model90.pt\")"
   ]
  }
 ],
 "metadata": {
  "kernelspec": {
   "display_name": "Python 3 (ipykernel)",
   "language": "python",
   "name": "python3"
  },
  "language_info": {
   "codemirror_mode": {
    "name": "ipython",
    "version": 3
   },
   "file_extension": ".py",
   "mimetype": "text/x-python",
   "name": "python",
   "nbconvert_exporter": "python",
   "pygments_lexer": "ipython3",
   "version": "3.11.6"
  }
 },
 "nbformat": 4,
 "nbformat_minor": 2
}
