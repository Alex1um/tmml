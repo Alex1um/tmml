{
 "cells": [
  {
   "cell_type": "code",
   "execution_count": 91,
   "metadata": {},
   "outputs": [],
   "source": [
    "class Perceptron:\n",
    "    def __init__(self, num_inputs, activation_f, error_f):\n",
    "        # self.weights = np.random.rand(num_inputs)\n",
    "        # self.bias = np.random.rand(0)\n",
    "        self.weights = np.zeros(num_inputs)\n",
    "        self.bias = 0\n",
    "        self.activation = activation_f\n",
    "        self.error = error_f\n",
    "\n",
    "    def feedforward(self, inputs):\n",
    "        total = np.dot(self.weights, inputs) + self.bias\n",
    "        return total\n",
    "    \n",
    "    def predict(self, inputs):\n",
    "        return self.activation(np.dot(self.weights, inputs) + self.bias)\n",
    "        \n",
    "    def train(self, training_inputs, reals, learning_rate, epochs):\n",
    "        for _ in range(epochs):\n",
    "            for inputs, real in zip(training_inputs, reals):\n",
    "                prediction = self.feedforward(inputs)\n",
    "                # 0 is 1, 1 is 2\n",
    "                if real == 1 and prediction > 0:\n",
    "                    self.weights -= learning_rate * inputs\n",
    "                if real == 0 and prediction <= 0:\n",
    "                    self.weights += learning_rate * inputs\n"
   ]
  },
  {
   "cell_type": "code",
   "execution_count": 2,
   "metadata": {},
   "outputs": [],
   "source": [
    "import numpy as np # linear algebra\n",
    "import struct\n",
    "from array import array\n",
    "from os.path  import join\n",
    "\n",
    "#\n",
    "# MNIST Data Loader Class\n",
    "#\n",
    "class MnistDataloader(object):\n",
    "    def __init__(self, training_images_filepath,training_labels_filepath,\n",
    "                 test_images_filepath, test_labels_filepath):\n",
    "        self.training_images_filepath = training_images_filepath\n",
    "        self.training_labels_filepath = training_labels_filepath\n",
    "        self.test_images_filepath = test_images_filepath\n",
    "        self.test_labels_filepath = test_labels_filepath\n",
    "    \n",
    "    def read_images_labels(self, images_filepath, labels_filepath):        \n",
    "        labels = []\n",
    "        with open(labels_filepath, 'rb') as file:\n",
    "            magic, size = struct.unpack(\">II\", file.read(8))\n",
    "            if magic != 2049:\n",
    "                raise ValueError('Magic number mismatch, expected 2049, got {}'.format(magic))\n",
    "            labels = array(\"B\", file.read())        \n",
    "        \n",
    "        with open(images_filepath, 'rb') as file:\n",
    "            magic, size, rows, cols = struct.unpack(\">IIII\", file.read(16))\n",
    "            if magic != 2051:\n",
    "                raise ValueError('Magic number mismatch, expected 2051, got {}'.format(magic))\n",
    "            image_data = array(\"B\", file.read())        \n",
    "        images = []\n",
    "        for i in range(size):\n",
    "            images.append([0] * rows * cols)\n",
    "        for i in range(size):\n",
    "            img = np.array(image_data[i * rows * cols:(i + 1) * rows * cols])\n",
    "            img = img.reshape(28, 28)\n",
    "            images[i][:] = img            \n",
    "        \n",
    "        return images, labels\n",
    "            \n",
    "    def load_data(self):\n",
    "        x_train, y_train = self.read_images_labels(self.training_images_filepath, self.training_labels_filepath)\n",
    "        x_test, y_test = self.read_images_labels(self.test_images_filepath, self.test_labels_filepath)\n",
    "        return (x_train, y_train),(x_test, y_test)        "
   ]
  },
  {
   "cell_type": "code",
   "execution_count": 17,
   "metadata": {},
   "outputs": [],
   "source": [
    "(x_train_raw, y_train_raw),(x_test_raw, y_test_raw) = MnistDataloader(\n",
    "    \"data/mnist/train-images.idx3-ubyte\",\n",
    "    \"data/mnist/train-labels.idx1-ubyte\",\n",
    "    \"data/mnist/t10k-images.idx3-ubyte\",\n",
    "    \"data/mnist/t10k-labels.idx1-ubyte\"\n",
    "    ).load_data()"
   ]
  },
  {
   "cell_type": "code",
   "execution_count": 18,
   "metadata": {},
   "outputs": [],
   "source": [
    "x_train_raw = np.array(x_train_raw).reshape(60000, 28*28)\n",
    "y_train_raw = np.array(y_train_raw)\n",
    "x_test_raw = np.array(x_test_raw).reshape(10000, 28*28)\n",
    "y_test_raw = np.array(y_test_raw)"
   ]
  },
  {
   "cell_type": "code",
   "execution_count": 27,
   "metadata": {},
   "outputs": [],
   "source": [
    "# ones = y_train == 1\n",
    "# twos = y_train == 2\n",
    "two_ones = ((y_train_raw == 1) | (y_train_raw == 2))\n",
    "y_train = y_train_raw[two_ones]\n",
    "x_train = x_train_raw[two_ones]\n",
    "\n",
    "ones = y_train == 1\n",
    "twos = y_train == 2"
   ]
  },
  {
   "cell_type": "code",
   "execution_count": 28,
   "metadata": {},
   "outputs": [
    {
     "data": {
      "text/plain": [
       "((60000, 784), (12700,))"
      ]
     },
     "execution_count": 28,
     "metadata": {},
     "output_type": "execute_result"
    }
   ],
   "source": [
    "x_train_raw.shape, y_train.shape"
   ]
  },
  {
   "cell_type": "code",
   "execution_count": 138,
   "metadata": {},
   "outputs": [],
   "source": [
    "errorf = lambda p, r: (p - r)**2 / 2\n",
    "\n",
    "p = Perceptron(28*28, lambda x: 1 if x >= 0 else -1, errorf)\n",
    "# p2 = Perceptron(28*28, lambda x: 1 / (1 + np.exp(-x)), errorf)\n",
    "# p1.train(x_train, ones, 0.1, 1)\n",
    "p.train(x_train, twos, 8, 1)"
   ]
  },
  {
   "cell_type": "code",
   "execution_count": 116,
   "metadata": {},
   "outputs": [
    {
     "data": {
      "text/plain": [
       "(2167, 784)"
      ]
     },
     "execution_count": 116,
     "metadata": {},
     "output_type": "execute_result"
    }
   ],
   "source": [
    "two_ones = ((y_test_raw == 1) | (y_test_raw == 2))\n",
    "y_test = y_test_raw[two_ones]\n",
    "x_test = x_test_raw[two_ones]\n",
    "\n",
    "ones_test = y_test == 1\n",
    "twos_test = y_test == 2\n",
    "x_test.shape"
   ]
  },
  {
   "cell_type": "code",
   "execution_count": 139,
   "metadata": {},
   "outputs": [
    {
     "data": {
      "text/plain": [
       "(0.5251499769266267, 0.4748500230733733, 0.9940009229349331)"
      ]
     },
     "execution_count": 139,
     "metadata": {},
     "output_type": "execute_result"
    }
   ],
   "source": [
    "is_right = 0\n",
    "pred_ones = 0\n",
    "pred_twos = 0\n",
    "N = 2167\n",
    "for i, x in enumerate(x_test[:N, :]):\n",
    "    prediction = p.predict(x)\n",
    "    prediction_num = 2 if prediction < 0 else 1\n",
    "    pred_ones += prediction_num == 1\n",
    "    pred_twos += prediction_num == 2\n",
    "    test_num = 1 if ones_test[i] else 2\n",
    "    is_right += prediction_num == test_num\n",
    "pred_ones / N, pred_twos / N, is_right / N"
   ]
  },
  {
   "cell_type": "code",
   "execution_count": 140,
   "metadata": {},
   "outputs": [
    {
     "data": {
      "text/plain": [
       "(0.5335433070866141, 0.4664566929133858, 0.991496062992126)"
      ]
     },
     "execution_count": 140,
     "metadata": {},
     "output_type": "execute_result"
    }
   ],
   "source": [
    "is_right = 0\n",
    "pred_ones = 0\n",
    "pred_twos = 0\n",
    "N = x_train.shape[0]\n",
    "for i, x in enumerate(x_train[:N, :]):\n",
    "    prediction = p.predict(x)\n",
    "    prediction_num = 2 if prediction < 0 else 1\n",
    "    pred_ones += prediction_num == 1\n",
    "    pred_twos += prediction_num == 2\n",
    "    test_num = 1 if ones[i] else 2\n",
    "    is_right += prediction_num == test_num\n",
    "pred_ones / N, pred_twos / N, is_right / N"
   ]
  }
 ],
 "metadata": {
  "kernelspec": {
   "display_name": "Python 3 (ipykernel)",
   "language": "python",
   "name": "python3"
  },
  "language_info": {
   "codemirror_mode": {
    "name": "ipython",
    "version": 3
   },
   "file_extension": ".py",
   "mimetype": "text/x-python",
   "name": "python",
   "nbconvert_exporter": "python",
   "pygments_lexer": "ipython3",
   "version": "3.11.6"
  }
 },
 "nbformat": 4,
 "nbformat_minor": 2
}
