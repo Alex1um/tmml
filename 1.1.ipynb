{
 "cells": [
  {
   "cell_type": "code",
   "execution_count": 1,
   "id": "0dc20953",
   "metadata": {},
   "outputs": [],
   "source": [
    "#!pip install ipympl matplotlib numpy"
   ]
  },
  {
   "cell_type": "code",
   "execution_count": 2,
   "id": "d7554bc4",
   "metadata": {},
   "outputs": [],
   "source": [
    "# from google.colab import output\n",
    "# output.enable_custom_widget_manager()"
   ]
  },
  {
   "cell_type": "code",
   "execution_count": 3,
   "id": "13bec01e",
   "metadata": {},
   "outputs": [],
   "source": [
    "%matplotlib ipympl\n",
    "import numpy as np\n",
    "import matplotlib.pyplot as plt\n",
    "from math import *\n",
    "from itertools import product"
   ]
  },
  {
   "cell_type": "code",
   "execution_count": 4,
   "id": "617ccc57",
   "metadata": {},
   "outputs": [],
   "source": [
    "with plt.ioff():\n",
    "    fig, ax = plt.subplots()"
   ]
  },
  {
   "cell_type": "code",
   "execution_count": 5,
   "id": "4ad6f9bf",
   "metadata": {},
   "outputs": [],
   "source": [
    "from ipywidgets import AppLayout\n",
    "from ipywidgets import Dropdown, FloatText, IntText, Button, Layout, HTML, HBox, VBox"
   ]
  },
  {
   "cell_type": "code",
   "execution_count": 33,
   "id": "bea059ca",
   "metadata": {},
   "outputs": [],
   "source": [
    "rng = np.random.default_rng(3123)\n",
    "functions = {\n",
    "    \"ax^3+bx^2+cx+d\":\n",
    "    (np.vectorize(lambda x, a, b, c, d: a*x**3 + b*x**2 + c*x + d), {\"a\": [-3, 3], \"b\": [-3, 3], \"c\": [-3, 3], \"d\": [-3, 3]}),\n",
    "    \"x*sin(2*pi*x)\":\n",
    "    (np.vectorize(lambda x: x*sin(2*pi*x)), {}),\n",
    "}"
   ]
  },
  {
   "cell_type": "code",
   "execution_count": 27,
   "id": "1fc59c60",
   "metadata": {},
   "outputs": [],
   "source": [
    "N = 20\n",
    "epsilon0 = .2\n",
    "epsilon_rngs = {\n",
    "    \"normal\":\n",
    "    (lambda n, sigma, center=0: rng.normal(center, sigma, n), {\"center\": None, \"sigma\": None}),\n",
    "    \"uniform\":\n",
    "    (lambda n, ep0: rng.uniform(-ep0, ep0, n), {\"ep0\": None}),\n",
    "}"
   ]
  },
  {
   "cell_type": "code",
   "execution_count": 28,
   "id": "387ad733",
   "metadata": {},
   "outputs": [],
   "source": [
    "\n",
    "def update_plot(f_name, f, f_params, N, e_rng, e_rng_name, e_params):\n",
    "    global ax, fig\n",
    "    epsilon = e_rng(N, **e_params)\n",
    "    x = np.linspace(-1, 1, 40)\n",
    "    ax.clear()\n",
    "    ax.plot(x, f(x, **f_params), \"b\", label=f_name)\n",
    "    x_c = rng.uniform(-1, 1, N)\n",
    "    y_c = f(x_c, **f_params) + epsilon\n",
    "    ax.scatter(x_c, y_c, c=\"r\")\n",
    "    ax.legend()\n",
    "    ax.title.set_text(f\"N: {N} ep_rng: {e_rng_name}\")"
   ]
  },
  {
   "cell_type": "code",
   "execution_count": 31,
   "id": "610f2752",
   "metadata": {},
   "outputs": [],
   "source": [
    "def create_param_inputs(functions: dict[str, tuple[callable, dict[str, list[float]]]]):\n",
    "\n",
    "    function_blocks = dict()\n",
    "    function_params_inputs = dict()\n",
    "\n",
    "    for f_name, (_, params) in functions.items():\n",
    "\n",
    "        function_box_items = list()\n",
    "        function_inputs = list()\n",
    "\n",
    "        for param_name, param_range in params.items():\n",
    "            rng_btn = None\n",
    "            if param_range is None:\n",
    "                param_range = [0, 1]\n",
    "            else:\n",
    "                rng_btn = Button()\n",
    "            inp = FloatText(\n",
    "                value = rng.uniform(*param_range),\n",
    "                step = .1,\n",
    "                description=param_name,\n",
    "                layout=Layout(width=\"95%\")\n",
    "            )\n",
    "            function_inputs.append(inp)\n",
    "            box_items = list()\n",
    "            box_items.append(inp)\n",
    "\n",
    "            if rng_btn is not None:\n",
    "                rng_btn.linked_input = inp\n",
    "                rng_btn.linked_input_range = param_range\n",
    "                # rng_btn.on_click(lambda x: inp.__setattr__(\"value\", rng.uniform(*param_range)))\n",
    "                rng_btn.on_click(lambda x: x.linked_input.__setattr__(\"value\", rng.uniform(*x.linked_input_range)))\n",
    "                box_items.append(rng_btn)\n",
    "            \n",
    "            box = HBox(\n",
    "                box_items\n",
    "            )\n",
    "            function_box_items.append(box)\n",
    "        \n",
    "        function_blocks[f_name] = VBox(\n",
    "            function_box_items,\n",
    "            layout=Layout(width=\"100%\", display=\"none\")\n",
    "        )\n",
    "        function_params_inputs[f_name] = function_inputs\n",
    "    \n",
    "    return function_blocks, function_params_inputs            \n"
   ]
  },
  {
   "cell_type": "code",
   "execution_count": 43,
   "id": "db848e6e",
   "metadata": {},
   "outputs": [
    {
     "data": {
      "application/vnd.jupyter.widget-view+json": {
       "model_id": "d516b34bf5934bb897c592527a6d63ba",
       "version_major": 2,
       "version_minor": 0
      },
      "text/plain": [
       "AppLayout(children=(Button(description='update', layout=Layout(grid_area='header', width='100%'), style=Button…"
      ]
     },
     "execution_count": 43,
     "metadata": {},
     "output_type": "execute_result"
    }
   ],
   "source": [
    "first_rng = next(iter(epsilon_rngs.keys()))\n",
    "ep_rng_dropdown = Dropdown(\n",
    "    options=epsilon_rngs.keys(),\n",
    "    value=first_rng,\n",
    "    layout=Layout(width=\"95%\"),\n",
    "    description=\"ε_rng\",\n",
    "    style={\"description_width\": \"initial\"},\n",
    ")\n",
    "\n",
    "ep_rng_blocks, ep_rng_params = create_param_inputs(epsilon_rngs)\n",
    "# ep_rng_params = {\n",
    "#     key: VBox(\n",
    "#         [FloatText(value=0, step=.1, description=param, layout=Layout(width=\"95%\")) for param in params],\n",
    "#         layout=Layout(width=\"100%\", display=\"none\"),\n",
    "#         ) for key, (_, params) in epsilon_rngs.items()\n",
    "# }\n",
    "\n",
    "def on_dropdown_change(value, boxes: dict[str, VBox]):\n",
    "    old_box = boxes[value[\"old\"]]\n",
    "    new_box = boxes[value[\"new\"]]\n",
    "    old_box.layout.display=\"none\"\n",
    "    new_box.layout.display=\"block\"\n",
    "\n",
    "ep_rng_dropdown.observe(lambda value: on_dropdown_change(value, ep_rng_blocks), names=\"value\")\n",
    "ep_rng_blocks[first_rng].layout.display = \"block\"\n",
    "\n",
    "first_function = next(iter(functions.keys()))\n",
    "function_dropdown = Dropdown(\n",
    "    options=functions.keys(),\n",
    "    value=first_function,\n",
    "    layout=Layout(width=\"100%\"),\n",
    "    description=\"function\",\n",
    "    style={\"description_width\": \"initial\"},\n",
    ")\n",
    "functions_blocks, functions_params = create_param_inputs(functions)\n",
    "# function_params = {\n",
    "#     key: VBox(\n",
    "#         [FloatText(value=0, step=.1, description=param, layout=Layout(width=\"95%\")) for param in params],\n",
    "#         layout=Layout(width=\"100%\", display=\"none\"),\n",
    "#         ) for key, (_, params) in functions.items()\n",
    "# }\n",
    "function_dropdown.observe(lambda value: on_dropdown_change(value, functions_blocks), names=\"value\")\n",
    "functions_blocks[first_function].layout.display=\"block\"\n",
    "\n",
    "n_input = IntText(\n",
    "                value=N,\n",
    "                min=1,\n",
    "                max=100,\n",
    "                step=1,\n",
    "                layout=Layout(width=\"95%\"),\n",
    "                description=\"N\",\n",
    "                style={\"description_width\": \"initial\"},\n",
    ")\n",
    "AppLayout(\n",
    "    center=fig.canvas,\n",
    "    header=(update_bt := Button(\n",
    "                description=\"update\",\n",
    "                layout=Layout(width=\"100%\"),\n",
    "                style={\"description_width\": \"initial\"},\n",
    "    )),\n",
    "    footer=VBox(\n",
    "        [\n",
    "            function_dropdown,\n",
    "            *functions_blocks.values()\n",
    "        ]\n",
    "    ),\n",
    "    right_sidebar=VBox(\n",
    "        [\n",
    "            n_input,\n",
    "            ep_rng_dropdown,\n",
    "            *ep_rng_blocks.values()\n",
    "        ],\n",
    "        layout=Layout(height=\"100%\", width=\"95%\")\n",
    "    ),\n",
    "    pane_heights=[\"40px\", 3, 1],\n",
    ")"
   ]
  },
  {
   "cell_type": "code",
   "execution_count": 35,
   "id": "20a88280",
   "metadata": {},
   "outputs": [],
   "source": [
    "update_bt.on_click(lambda x: update_plot(\n",
    "    function_dropdown.value,\n",
    "    functions[function_dropdown.value][0],\n",
    "    {w.description: w.value for w in functions_params[function_dropdown.value]},\n",
    "    n_input.value,\n",
    "    epsilon_rngs[ep_rng_dropdown.value][0],\n",
    "    ep_rng_dropdown.value,\n",
    "    {w.description: w.value for w in ep_rng_params[ep_rng_dropdown.value]},\n",
    "))"
   ]
  }
 ],
 "metadata": {
  "kernelspec": {
   "display_name": "Python 3 (ipykernel)",
   "language": "python",
   "name": "python3"
  }
 },
 "nbformat": 4,
 "nbformat_minor": 5
}
